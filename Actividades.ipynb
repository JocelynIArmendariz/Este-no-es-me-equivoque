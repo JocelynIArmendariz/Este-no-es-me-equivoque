{
  "nbformat": 4,
  "nbformat_minor": 0,
  "metadata": {
    "colab": {
      "provenance": [],
      "toc_visible": true
    },
    "kernelspec": {
      "name": "python3",
      "display_name": "Python 3"
    },
    "language_info": {
      "name": "python"
    }
  },
  "cells": [
    {
      "cell_type": "markdown",
      "source": [
        "##Ejemplo 1: Como calcular la media, mediana y moda"
      ],
      "metadata": {
        "id": "Es5CeYASAf1v"
      }
    },
    {
      "cell_type": "code",
      "source": [
        "from statics import"
      ],
      "metadata": {
        "id": "Yxn1wSqH9ibh"
      },
      "execution_count": null,
      "outputs": []
    },
    {
      "cell_type": "code",
      "source": [
        "# Lista de calificaciones del grupo a de probabilidad y estadistica\n",
        "grupoa = [70, 70, 65, 90, 100, 95, 45, 80, 73, 20, 100, 96]\n",
        "print(grupoa)\n",
        "# La funcion type nos devuelve el tipo de dato dela variable\n",
        "type(grupoa)\n"
      ],
      "metadata": {
        "colab": {
          "base_uri": "https://localhost:8080/"
        },
        "id": "mMfOpTAV-26d",
        "outputId": "bed4d7c7-0cf6-462f-8d1d-6928c45253a4"
      },
      "execution_count": null,
      "outputs": [
        {
          "output_type": "stream",
          "name": "stdout",
          "text": [
            "[70, 70, 65, 90, 100, 95, 45, 80, 73, 20, 100, 96]\n"
          ]
        },
        {
          "output_type": "execute_result",
          "data": {
            "text/plain": [
              "list"
            ]
          },
          "metadata": {},
          "execution_count": 44
        }
      ]
    },
    {
      "cell_type": "code",
      "source": [
        "# Sacar La media de las calificaciones con una formula\n",
        "promedio = sum(grupoa) / len(grupoa)\n",
        "print(promedio)\n",
        "# Utilizar la funcion mean que esta en la libreria statistics para sacar # el promedio\n",
        "promedio2 = mean (grupoa)\n",
        "print(promedio2)\n",
        "\n",
        "# Determinar el valor de la mediana con la funcion median\n",
        "mediana= median(grupoa)\n",
        "print(mediana)\n",
        "\n",
        "# Determinar el valor de la moda con la funcion mode\n",
        "moda = mode(grupoa)\n",
        "print(moda)\n"
      ],
      "metadata": {
        "colab": {
          "base_uri": "https://localhost:8080/"
        },
        "id": "OrIIGiBo_mny",
        "outputId": "f3394af4-5ab1-4694-aae5-e1eab1e967fa"
      },
      "execution_count": null,
      "outputs": [
        {
          "output_type": "stream",
          "name": "stdout",
          "text": [
            "75.33333333333333\n",
            "75.33333333333333\n",
            "76.5\n",
            "70\n"
          ]
        }
      ]
    },
    {
      "cell_type": "markdown",
      "source": [],
      "metadata": {
        "id": "01GwMoELA-Pa"
      }
    },
    {
      "cell_type": "markdown",
      "source": [
        "##Ejemplo 2: Estadisticas de corredores en 100 metros"
      ],
      "metadata": {
        "id": "tnb9hy_JA_4v"
      }
    },
    {
      "cell_type": "code",
      "source": [
        "# Definimos una varaiable Llamada tiempos100mts de tipo lista, que contiene Los #tiempos que tardaron Los 10 alumnos para correr Los 100 metros tiempos100mts = [115.10, 17.20, 14.69, 13.27, 22.15, 18.71, 19.15, 20.65, 15.10, 17.20]\n",
        "# Desplegamos Los valores de la lista print(tiempos100mts)\n",
        "tiempos100mts= [15.1, 17.2, 14.69, 13.27, 22.15, 18.71, 19.15, 20.65, 15.1, 17.2]\n",
        "print(\"El tiempo de los corredores es=>\", (tiempos100mts))\n",
        "\n",
        "# Usamos La funcion mean para determinar el tiempo promedio de la lista de valores\n",
        "print(\"El tiempo promedio de los corredores es=>\", mean(tiempos100mts))"
      ],
      "metadata": {
        "colab": {
          "base_uri": "https://localhost:8080/"
        },
        "id": "-5N9ERTBBFP2",
        "outputId": "0c3280e9-fb33-401d-9afa-9a4083729d1c"
      },
      "execution_count": null,
      "outputs": [
        {
          "output_type": "stream",
          "name": "stdout",
          "text": [
            "El tiempo de los corredores es=> [15.1, 17.2, 14.69, 13.27, 22.15, 18.71, 19.15, 20.65, 15.1, 17.2]\n",
            "El tiempo promedio de los corredores es=> 17.322\n"
          ]
        }
      ]
    },
    {
      "cell_type": "code",
      "source": [
        "# Usamos La funcion median para determinar el tiempo promedio de la lista de valores\n",
        "#definimos una variable Llammada mediana par calcular La mediana de la lista con la funcion # median\n",
        "mediana = median (tiempos100mts)\n",
        "print(\"La media de los tiempos de los corredores es=>\", mediana)\n",
        "\n",
        "#definimos una variable Llammada moda par calcular la moda de la lista con la funcion # mode\n",
        "moda=mode(tiempos100mts)\n",
        "print(\"La moda de los tiempos es=>\", moda)\n",
        "\n",
        "multimodas= multimode(tiempos100mts)\n",
        "print(\"La moda de los tiempos es=>\", multimodas)"
      ],
      "metadata": {
        "colab": {
          "base_uri": "https://localhost:8080/"
        },
        "id": "WydYUY3BB_DQ",
        "outputId": "3a611bb4-d150-4fe5-da5d-6be6dc28fd9f"
      },
      "execution_count": null,
      "outputs": [
        {
          "output_type": "stream",
          "name": "stdout",
          "text": [
            "La media de los tiempos de los corredores es=> 17.2\n",
            "La moda de los tiempos es=> 15.1\n",
            "La moda de los tiempos es=> [15.1, 17.2]\n"
          ]
        }
      ]
    },
    {
      "cell_type": "markdown",
      "source": [
        "##Ejemplo 3: Histogramas de 2 grupos\n",
        "\n",
        "1. En este ejemplo generamos 100 numeros aleatorios reales que representa la produccion diaria de 100\n",
        "telares (medidas en metros)\n",
        "2. Generar ootra alista con la produccion de 100 telares para una segunda fabrica.\n",
        "3. Con estas listas de valores se pretende determinar las medidas de tendencia central, es decir, la\n",
        "media, la moda, la mediana, la desviacion estandar.\n",
        "4. Graficar un histograma para cada fabrica.\n",
        "\n"
      ],
      "metadata": {
        "id": "2SICzgxXfH6B"
      }
    },
    {
      "cell_type": "code",
      "source": [
        "# Libreria para generar numeros aleatorios\n",
        "import random\n",
        "from statistics import*\n"
      ],
      "metadata": {
        "id": "mgShLTiTecPE"
      },
      "execution_count": null,
      "outputs": []
    },
    {
      "cell_type": "code",
      "source": [
        "fabrica1 = []\n",
        "for i in range(100):\n",
        "   numero_aleatorio = round (random.uniform(50, 100), 2 )\n",
        "   fabrica1.append(numero_aleatorio)\n",
        "print(fabrica1)\n"
      ],
      "metadata": {
        "colab": {
          "base_uri": "https://localhost:8080/"
        },
        "id": "uHgiCQx_ffpx",
        "outputId": "d5bbf67c-37f2-4930-bf4c-a95dd72cc008"
      },
      "execution_count": null,
      "outputs": [
        {
          "output_type": "stream",
          "name": "stdout",
          "text": [
            "[73.1, 99.31, 62.39, 98.98, 82.4, 81.92, 67.72, 84.52, 94.27, 54.11, 69.83, 79.88, 86.37, 84.94, 60.21, 66.67, 88.01, 96.8, 99.22, 53.88, 62.48, 96.36, 80.27, 72.91, 88.93, 90.81, 65.59, 79.64, 70.64, 89.68, 50.13, 73.33, 64.62, 94.44, 74.99, 65.92, 87.39, 66.02, 89.47, 93.75, 68.73, 60.38, 85.32, 92.56, 63.87, 92.54, 72.15, 63.01, 63.97, 64.01, 90.75, 70.53, 53.86, 77.69, 98.14, 82.42, 81.05, 63.15, 86.81, 59.61, 94.9, 85.16, 93.96, 89.77, 75.08, 85.71, 83.48, 78.58, 92.01, 53.49, 58.6, 56.42, 50.04, 51.33, 97.01, 94.96, 98.36, 98.55, 72.33, 50.42, 60.83, 84.31, 62.39, 94.15, 74.4, 77.29, 65.89, 86.43, 61.74, 75.54, 53.51, 65.18, 61.33, 69.18, 90.89, 94.23, 96.72, 77.3, 77.74, 71.53]\n"
          ]
        }
      ]
    },
    {
      "cell_type": "code",
      "source": [
        "fabrica2 = []\n",
        "for i in range(100):\n",
        "   numero_aleatorio = round (random.uniform(50, 100), 2 )\n",
        "   fabrica2.append(numero_aleatorio)\n",
        "print(fabrica2)\n"
      ],
      "metadata": {
        "colab": {
          "base_uri": "https://localhost:8080/"
        },
        "outputId": "da681a5d-9948-4b3d-a6a3-56451c92b843",
        "id": "xtTzw_omhiXO"
      },
      "execution_count": null,
      "outputs": [
        {
          "output_type": "stream",
          "name": "stdout",
          "text": [
            "[64.1, 75.05, 50.84, 87.23, 70.08, 57.51, 53.78, 79.04, 93.93, 50.82, 77.49, 90.2, 78.22, 71.75, 87.92, 92.89, 57.82, 90.32, 70.72, 92.28, 57.37, 95.7, 60.07, 70.39, 73.5, 89.46, 85.14, 92.15, 87.16, 82.28, 68.87, 73.94, 98.17, 77.75, 89.23, 89.62, 85.43, 68.38, 61.5, 98.59, 59.09, 88.79, 86.21, 97.99, 73.7, 81.54, 55.79, 89.14, 65.67, 68.82, 88.48, 60.37, 98.39, 91.41, 51.21, 50.15, 72.53, 70.39, 99.4, 85.8, 65.34, 84.52, 79.3, 52.18, 85.43, 96.31, 79.55, 51.63, 50.36, 75.46, 55.2, 77.49, 51.27, 95.84, 83.86, 69.94, 50.06, 98.11, 56.42, 74.83, 72.95, 71.68, 82.86, 94.51, 50.76, 93.32, 77.27, 95.28, 77.25, 81.1, 51.86, 50.33, 72.46, 84.13, 85.12, 68.56, 97.94, 84.72, 81.9, 90.61]\n"
          ]
        }
      ]
    },
    {
      "cell_type": "code",
      "source": [
        "# libreia de python para graficar valores|\n",
        "import matplotlib.pyplot as plt\n",
        "\n",
        "plt.hist(fabrica1)\n",
        "plt.title(\"Produccion diaria de la fabrica 1\")\n",
        "plt.hist(fabrica1, color='thistle')"
      ],
      "metadata": {
        "colab": {
          "base_uri": "https://localhost:8080/",
          "height": 521
        },
        "id": "PjyF9EuIe0r4",
        "outputId": "2c4d128f-94bb-4270-9876-f906c643b4bb"
      },
      "execution_count": null,
      "outputs": [
        {
          "output_type": "execute_result",
          "data": {
            "text/plain": [
              "(array([ 9.,  3., 14.,  9., 10.,  8., 10., 10., 14., 13.]),\n",
              " array([50.04 , 54.967, 59.894, 64.821, 69.748, 74.675, 79.602, 84.529,\n",
              "        89.456, 94.383, 99.31 ]),\n",
              " <BarContainer object of 10 artists>)"
            ]
          },
          "metadata": {},
          "execution_count": 19
        },
        {
          "output_type": "display_data",
          "data": {
            "text/plain": [
              "<Figure size 640x480 with 1 Axes>"
            ],
            "image/png": "[encoded data removed]"
          },
          "metadata": {}
        }
      ]
    },
    {
      "cell_type": "code",
      "source": [
        "plt.hist(fabrica2)\n",
        "plt.title(\"Produccion diaria de la fabrica 2\")\n",
        "plt.hist(fabrica2, color='palevioletred')"
      ],
      "metadata": {
        "colab": {
          "base_uri": "https://localhost:8080/",
          "height": 521
        },
        "id": "wajDK9BzicDe",
        "outputId": "32b70f04-430f-4e15-f21c-2113e9b091ab"
      },
      "execution_count": null,
      "outputs": [
        {
          "output_type": "execute_result",
          "data": {
            "text/plain": [
              "(array([13.,  7.,  4.,  6., 13., 12.,  8., 15., 10., 12.]),\n",
              " array([50.06 , 54.994, 59.928, 64.862, 69.796, 74.73 , 79.664, 84.598,\n",
              "        89.532, 94.466, 99.4  ]),\n",
              " <BarContainer object of 10 artists>)"
            ]
          },
          "metadata": {},
          "execution_count": 20
        },
        {
          "output_type": "display_data",
          "data": {
            "text/plain": [
              "<Figure size 640x480 with 1 Axes>"
            ],
            "image/png": "[encoded data removed]"
          },
          "metadata": {}
        }
      ]
    },
    {
      "cell_type": "code",
      "source": [
        "media = mean(fabrica1)\n",
        "mediana = median(fabrica1)\n",
        "moda= mode(fabrica1)\n",
        "print(\"Valores de la fabrica 1\")\n",
        "print(\"La media es =\", media)\n",
        "print(\"la mediana es =\", mediana)\n",
        "print(\"la moda es =\", moda)\n",
        "\n"
      ],
      "metadata": {
        "colab": {
          "base_uri": "https://localhost:8080/"
        },
        "id": "YzcazVLNknzW",
        "outputId": "57c66a53-4f54-4284-8c7c-aaf954a0d757"
      },
      "execution_count": null,
      "outputs": [
        {
          "output_type": "stream",
          "name": "stdout",
          "text": [
            "Valores de la fabrica 1\n",
            "La media es = 76.9319\n",
            "la mediana es = 77.495\n",
            "la moda es = 62.39\n"
          ]
        }
      ]
    },
    {
      "cell_type": "code",
      "source": [
        "media = mean(fabrica2)\n",
        "mediana = median(fabrica2)\n",
        "moda = mode(fabrica2)\n",
        "print(\"Valores de la fabrica 2\")\n",
        "print(\"La media es =\", media)\n",
        "print(\"la mediana es =\", mediana)\n",
        "print(\"la moda es =\", moda)\n"
      ],
      "metadata": {
        "colab": {
          "base_uri": "https://localhost:8080/"
        },
        "id": "8XjTSQiQe8xJ",
        "outputId": "3d77441a-8b27-424c-e061-3db8192cdf64"
      },
      "execution_count": null,
      "outputs": [
        {
          "output_type": "stream",
          "name": "stdout",
          "text": [
            "Valores de la fabrica 2\n",
            "La media es = 76.2927\n",
            "la mediana es = 77.62\n",
            "la moda es = 77.49\n"
          ]
        }
      ]
    },
    {
      "cell_type": "code",
      "source": [
        "# generar 2 subplot de 1 renglon por 2 columnas para desplegar los 2 histogramas,\n",
        "# una al lado de la otra\n",
        "fig, (ax1, ax2) = plt.subplots(nrows =1, ncols=2, figsize=(10, 5))\n",
        "ax1.hist(fabrica1)\n",
        "ax2.hist(fabrica2)\n",
        "\n",
        "ax1.hist(fabrica1, color='lightpink')\n",
        "ax2.hist(fabrica2, color='lightblue')"
      ],
      "metadata": {
        "colab": {
          "base_uri": "https://localhost:8080/",
          "height": 454
        },
        "id": "I9hpj1oqe4Vj",
        "outputId": "167f2b71-4eec-48a7-8cd9-0575ab8b967f"
      },
      "execution_count": null,
      "outputs": [
        {
          "output_type": "execute_result",
          "data": {
            "text/plain": [
              "(array([13.,  7.,  4.,  6., 13., 12.,  8., 15., 10., 12.]),\n",
              " array([50.06 , 54.994, 59.928, 64.862, 69.796, 74.73 , 79.664, 84.598,\n",
              "        89.532, 94.466, 99.4  ]),\n",
              " <BarContainer object of 10 artists>)"
            ]
          },
          "metadata": {},
          "execution_count": 23
        },
        {
          "output_type": "display_data",
          "data": {
            "text/plain": [
              "<Figure size 1000x500 with 2 Axes>"
            ],
            "image/png": "[encoded data removed]"
          },
          "metadata": {}
        }
      ]
    },
    {
      "cell_type": "code",
      "source": [
        "\n",
        "# generar 2 subplot de 1 renglon por 2 columnas para desplegar los 2 histogramas,\n",
        "# una al lado de la otra\n",
        "fig, (ax1, ax2) = plt.subplots(nrows =1, ncols=2)"
      ],
      "metadata": {
        "colab": {
          "base_uri": "https://localhost:8080/",
          "height": 435
        },
        "id": "HKHhNT4de-Tg",
        "outputId": "3964c151-8aaf-4a98-fc47-7daab86f8a97"
      },
      "execution_count": null,
      "outputs": [
        {
          "output_type": "display_data",
          "data": {
            "text/plain": [
              "<Figure size 640x480 with 2 Axes>"
            ],
            "image/png": "[encoded data removed]"
          },
          "metadata": {}
        }
      ]
    },
    {
      "cell_type": "code",
      "source": [
        "\n",
        "media1 = mean(fabrica1)\n",
        "mediana1 = median(fabrica1)\n",
        "moda1= mode(fabrica1)\n",
        "plt.hist(fabrica1, bins=10, alpha=0.2, color='plum', edgecolor = \"magenta\")\n",
        "plt.axvline(media1, color='hotpink', linestyle='dashed', linewidth=2, label='Media')\n",
        "plt.axvline(mediana1, color='cornflowerblue', linestyle='dashed', linewidth=2, label='Mediana')\n",
        "plt.axvline(moda1, color='mediumorchid', linestyle='dashed', linewidth=2, label='Moda')\n",
        "plt.xlabel('Valor')\n",
        "plt.ylabel('Frecuencia')\n",
        "plt.title(\"Producción diaria de la fabrica 1\")\n",
        "plt.legend()\n",
        "plt.show()\n"
      ],
      "metadata": {
        "id": "zUDqBSN5p3Ti"
      },
      "execution_count": null,
      "outputs": []
    },
    {
      "cell_type": "code",
      "source": [
        "media2 = mean(fabrica2)\n",
        "mediana2 = median(fabrica2)\n",
        "moda2= mode(fabrica2)\n",
        "plt.hist(fabrica2, bins=10, alpha=0.2, color='plum', edgecolor = \"magenta\")\n",
        "plt.axvline(media2, color='hotpink', linestyle='dashed', linewidth=2, label='Media')\n",
        "plt.axvline(mediana2, color='cornflowerblue', linestyle='dashed', linewidth=2, label='Mediana')\n",
        "plt.axvline(moda2, color='mediumorchid', linestyle='dashed', linewidth=2, label='Moda')\n",
        "plt.xlabel('Valor')\n",
        "plt.ylabel('Frecuencia')\n",
        "plt.title(\"Producción diaria de la fabrica 2\")\n",
        "plt.legend()\n",
        "plt.show()"
      ],
      "metadata": {
        "colab": {
          "base_uri": "https://localhost:8080/",
          "height": 472
        },
        "id": "yRrz8zdf8NK7",
        "outputId": "13658a82-9d62-44a4-8c01-52590976c9b3"
      },
      "execution_count": null,
      "outputs": [
        {
          "output_type": "display_data",
          "data": {
            "text/plain": [
              "<Figure size 640x480 with 1 Axes>"
            ],
            "image/png": "[encoded data removed]"
          },
          "metadata": {}
        }
      ]
    },
    {
      "cell_type": "markdown",
      "source": [
        "###Ejemplo 4 :Maximo, minimmo y rango"
      ],
      "metadata": {
        "id": "1j58Sc-29Hx-"
      }
    },
    {
      "cell_type": "code",
      "source": [
        "maximo = max(fabrica1)\n",
        "minimo = min(fabrica1)\n",
        "rango = maximo - minimo\n",
        "media = mean(fabrica1)\n",
        "mediana = median(fabrica1)\n",
        "moda = mode (fabrica1)\n",
        "print( \"Estadistica descriptiva de la Fabrica 1 \\n\", \"Media =\", media,\n",
        "\"\\n Mediana =\", mediana, \"\\n Moda =\", moda, \"\\n Maximo = \", maximo,\n",
        "\"\\n Minimo =\", minimo, \"\\n Rango =\", rango)"
      ],
      "metadata": {
        "colab": {
          "base_uri": "https://localhost:8080/"
        },
        "id": "TO9tzssg6jpe",
        "outputId": "89749a16-5871-44c9-e3c0-a64fe5fce9d3"
      },
      "execution_count": null,
      "outputs": [
        {
          "output_type": "stream",
          "name": "stdout",
          "text": [
            "Estadistica descriptiva de la Fabrica 1 \n",
            " Media = 76.9319 \n",
            " Mediana = 77.495 \n",
            " Moda = 62.39 \n",
            " Maximo =  99.31 \n",
            " Minimo = 50.04 \n",
            " Rango = 49.27\n"
          ]
        }
      ]
    },
    {
      "cell_type": "code",
      "source": [
        "maximo = max(fabrica2)\n",
        "minimo = min(fabrica2)\n",
        "rango = maximo - minimo\n",
        "media = mean(fabrica2)\n",
        "mediana = median(fabrica2)\n",
        "moda = mode (fabrica2)\n",
        "print( \"Estadistica descriptiva de la Fabrica 2 \\n\", \"Media =\", media,\n",
        "\"\\n Mediana =\", mediana, \"\\n Moda =\", moda, \"\\n Maximo = \", maximo,\n",
        "\"\\n Minimo =\", minimo, \"\\n Rango =\", rango)"
      ],
      "metadata": {
        "colab": {
          "base_uri": "https://localhost:8080/"
        },
        "id": "xOfXlSrd74Lj",
        "outputId": "767796ee-069c-45b9-8a77-e55f63c42dc4"
      },
      "execution_count": null,
      "outputs": [
        {
          "output_type": "stream",
          "name": "stdout",
          "text": [
            "Estadistica descriptiva de la Fabrica 2 \n",
            " Media = 76.2927 \n",
            " Mediana = 77.62 \n",
            " Moda = 77.49 \n",
            " Maximo =  99.4 \n",
            " Minimo = 50.06 \n",
            " Rango = 49.34\n"
          ]
        }
      ]
    }
  ]
}